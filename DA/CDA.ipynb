{
 "cells": [
  {
   "cell_type": "markdown",
   "id": "0df8f8ac-c391-4ec5-b264-f086d3eac141",
   "metadata": {},
   "source": [
    "## 소비량과 검색량의 상관관계 분석"
   ]
  },
  {
   "cell_type": "code",
   "execution_count": 2,
   "id": "7224654d-1697-4bf8-bd41-be4b486a899d",
   "metadata": {},
   "outputs": [],
   "source": [
    "import pandas as pd"
   ]
  },
  {
   "cell_type": "code",
   "execution_count": 3,
   "id": "a34c9d6d-2135-41e6-b3ad-ec71e4bc3962",
   "metadata": {},
   "outputs": [],
   "source": [
    "pd_attract = pd.read_csv('../data/data_attraction.csv')\n",
    "pd_consume = pd.read_csv('../data/data_consume.csv')"
   ]
  },
  {
   "cell_type": "code",
   "execution_count": 4,
   "id": "a671ab5c-504c-425d-8930-e38c314f8e5a",
   "metadata": {},
   "outputs": [],
   "source": [
    "total_search_region = pd_attract.groupby('region')['attraction_search'].sum()\n",
    "total_consume_region = pd_consume.groupby('region')['consumption_amount'].sum()"
   ]
  },
  {
   "cell_type": "code",
   "execution_count": 7,
   "id": "6bb3cc63-9f04-4fae-8791-dcc2c2684a68",
   "metadata": {},
   "outputs": [
    {
     "data": {
      "text/html": [
       "<div>\n",
       "<style scoped>\n",
       "    .dataframe tbody tr th:only-of-type {\n",
       "        vertical-align: middle;\n",
       "    }\n",
       "\n",
       "    .dataframe tbody tr th {\n",
       "        vertical-align: top;\n",
       "    }\n",
       "\n",
       "    .dataframe thead th {\n",
       "        text-align: right;\n",
       "    }\n",
       "</style>\n",
       "<table border=\"1\" class=\"dataframe\">\n",
       "  <thead>\n",
       "    <tr style=\"text-align: right;\">\n",
       "      <th></th>\n",
       "      <th>검색량</th>\n",
       "      <th>소비량</th>\n",
       "    </tr>\n",
       "    <tr>\n",
       "      <th>region</th>\n",
       "      <th></th>\n",
       "      <th></th>\n",
       "    </tr>\n",
       "  </thead>\n",
       "  <tbody>\n",
       "    <tr>\n",
       "      <th>강원</th>\n",
       "      <td>44630768</td>\n",
       "      <td>4.908100e+09</td>\n",
       "    </tr>\n",
       "    <tr>\n",
       "      <th>경기</th>\n",
       "      <td>103530347</td>\n",
       "      <td>3.491471e+10</td>\n",
       "    </tr>\n",
       "    <tr>\n",
       "      <th>경남</th>\n",
       "      <td>21867415</td>\n",
       "      <td>5.771857e+09</td>\n",
       "    </tr>\n",
       "    <tr>\n",
       "      <th>경북</th>\n",
       "      <td>23736682</td>\n",
       "      <td>4.654284e+09</td>\n",
       "    </tr>\n",
       "    <tr>\n",
       "      <th>광주</th>\n",
       "      <td>9147267</td>\n",
       "      <td>3.537131e+09</td>\n",
       "    </tr>\n",
       "    <tr>\n",
       "      <th>대구</th>\n",
       "      <td>17619046</td>\n",
       "      <td>6.567972e+09</td>\n",
       "    </tr>\n",
       "    <tr>\n",
       "      <th>대전</th>\n",
       "      <td>16038903</td>\n",
       "      <td>5.160175e+09</td>\n",
       "    </tr>\n",
       "    <tr>\n",
       "      <th>부산</th>\n",
       "      <td>35671964</td>\n",
       "      <td>1.116251e+10</td>\n",
       "    </tr>\n",
       "    <tr>\n",
       "      <th>서울</th>\n",
       "      <td>84305657</td>\n",
       "      <td>4.292003e+10</td>\n",
       "    </tr>\n",
       "    <tr>\n",
       "      <th>세종</th>\n",
       "      <td>6835117</td>\n",
       "      <td>3.842250e+08</td>\n",
       "    </tr>\n",
       "    <tr>\n",
       "      <th>울산</th>\n",
       "      <td>10301660</td>\n",
       "      <td>2.078381e+09</td>\n",
       "    </tr>\n",
       "    <tr>\n",
       "      <th>인천</th>\n",
       "      <td>45222405</td>\n",
       "      <td>6.640479e+09</td>\n",
       "    </tr>\n",
       "    <tr>\n",
       "      <th>전남</th>\n",
       "      <td>19871242</td>\n",
       "      <td>3.577528e+09</td>\n",
       "    </tr>\n",
       "    <tr>\n",
       "      <th>전북</th>\n",
       "      <td>16522175</td>\n",
       "      <td>2.984366e+09</td>\n",
       "    </tr>\n",
       "    <tr>\n",
       "      <th>제주</th>\n",
       "      <td>27869314</td>\n",
       "      <td>4.159169e+09</td>\n",
       "    </tr>\n",
       "    <tr>\n",
       "      <th>충남</th>\n",
       "      <td>27341552</td>\n",
       "      <td>4.375691e+09</td>\n",
       "    </tr>\n",
       "    <tr>\n",
       "      <th>충북</th>\n",
       "      <td>20522432</td>\n",
       "      <td>3.885181e+09</td>\n",
       "    </tr>\n",
       "  </tbody>\n",
       "</table>\n",
       "</div>"
      ],
      "text/plain": [
       "              검색량           소비량\n",
       "region                         \n",
       "강원       44630768  4.908100e+09\n",
       "경기      103530347  3.491471e+10\n",
       "경남       21867415  5.771857e+09\n",
       "경북       23736682  4.654284e+09\n",
       "광주        9147267  3.537131e+09\n",
       "대구       17619046  6.567972e+09\n",
       "대전       16038903  5.160175e+09\n",
       "부산       35671964  1.116251e+10\n",
       "서울       84305657  4.292003e+10\n",
       "세종        6835117  3.842250e+08\n",
       "울산       10301660  2.078381e+09\n",
       "인천       45222405  6.640479e+09\n",
       "전남       19871242  3.577528e+09\n",
       "전북       16522175  2.984366e+09\n",
       "제주       27869314  4.159169e+09\n",
       "충남       27341552  4.375691e+09\n",
       "충북       20522432  3.885181e+09"
      ]
     },
     "execution_count": 7,
     "metadata": {},
     "output_type": "execute_result"
    }
   ],
   "source": [
    "df_search_consume= pd.DataFrame({'검색량' : total_search_region, '소비량' : total_consume_region})\n",
    "df_search_consume.reset_index()\n",
    "df_search_consume"
   ]
  },
  {
   "cell_type": "markdown",
   "id": "3c89a9e8-5191-44c3-85d5-4c51dd52a469",
   "metadata": {},
   "source": [
    "### 가설 검정\n",
    "- 귀무가설 : 검색량과 소비량 사이의 관계성이 없다(p-value>0.05)\n",
    "- 대립가설 : 검색량과 소비량 사이의 관계성이 있다(p-value<0.05)"
   ]
  },
  {
   "cell_type": "code",
   "execution_count": 12,
   "id": "e517bbd0-7cfe-4812-b7b9-0ccebc315e5d",
   "metadata": {},
   "outputs": [
    {
     "name": "stdout",
     "output_type": "stream",
     "text": [
      "2321.7437005274187 [0.576 0.656 0.787 0.918 1.092] [15.  10.   5.   2.5  1. ]\n"
     ]
    }
   ],
   "source": [
    "# 데이터 건수가 5,000개 이상이므로 Anderson-normality test 시행\n",
    "import scipy.stats as stats\n",
    "\n",
    "statistic, critical_values, significance_level = stats.anderson(pd_attract['attraction_search'])\n",
    "print(statistic, critical_values, significance_level)"
   ]
  },
  {
   "cell_type": "markdown",
   "id": "012ce898-d56f-4ef9-8cb5-080af6e3ec68",
   "metadata": {},
   "source": [
    "- 검색량은 정규분포를 따르지 않음"
   ]
  },
  {
   "cell_type": "code",
   "execution_count": 13,
   "id": "04aebd8f-c317-4fb4-bab2-8a3b11c65bc8",
   "metadata": {},
   "outputs": [
    {
     "name": "stdout",
     "output_type": "stream",
     "text": [
      "304.3803428405429 [0.574 0.654 0.784 0.915 1.088] [15.  10.   5.   2.5  1. ]\n"
     ]
    }
   ],
   "source": [
    "statistic, critical_values, significance_level = stats.anderson(pd_consume['consumption_amount'])\n",
    "print(statistic, critical_values, significance_level)"
   ]
  },
  {
   "cell_type": "markdown",
   "id": "4d58d9a5-145f-4149-890a-2453dce03ecf",
   "metadata": {},
   "source": [
    "- 소비량은 정규분포를 따르지 않음"
   ]
  },
  {
   "cell_type": "code",
   "execution_count": 22,
   "id": "97fe86c7-1a69-4444-a705-6754420d695c",
   "metadata": {},
   "outputs": [],
   "source": [
    "import numpy as np\n",
    "attraction_search_array = df_search_consume['검색량'].to_numpy()\n",
    "consumption_amount_array = df_search_consume['소비량'].to_numpy()"
   ]
  },
  {
   "cell_type": "code",
   "execution_count": 25,
   "id": "61ba588a-8d2d-4e34-b7b8-a9c1783a877d",
   "metadata": {},
   "outputs": [
    {
     "name": "stdout",
     "output_type": "stream",
     "text": [
      "0.7769607843137256 0.00024331533106465494\n"
     ]
    }
   ],
   "source": [
    "correlation, p_value = stats.spearmanr(attraction_search_array, consumption_amount_array)\n",
    "print(correlation, p_value)"
   ]
  },
  {
   "cell_type": "markdown",
   "id": "e950af37-afdb-420a-8967-393c9599578d",
   "metadata": {},
   "source": [
    "- p-value 값이 매우 작기 때문에 귀무가설 기각\n",
    "- 검색량과 소비량은 상관관계가 있다"
   ]
  },
  {
   "cell_type": "code",
   "execution_count": null,
   "id": "0434dbdd-2dd2-4f7c-9a90-458acd4bba2f",
   "metadata": {},
   "outputs": [],
   "source": []
  }
 ],
 "metadata": {
  "kernelspec": {
   "display_name": "Python 3 (ipykernel)",
   "language": "python",
   "name": "python3"
  },
  "language_info": {
   "codemirror_mode": {
    "name": "ipython",
    "version": 3
   },
   "file_extension": ".py",
   "mimetype": "text/x-python",
   "name": "python",
   "nbconvert_exporter": "python",
   "pygments_lexer": "ipython3",
   "version": "3.11.9"
  }
 },
 "nbformat": 4,
 "nbformat_minor": 5
}
