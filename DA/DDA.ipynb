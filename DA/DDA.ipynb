{
 "cells": [
  {
   "cell_type": "code",
   "execution_count": 1,
   "id": "1f7d0210-1b6f-46a4-990b-59f16bfa1939",
   "metadata": {},
   "outputs": [],
   "source": [
    "import pandas as pd"
   ]
  },
  {
   "cell_type": "markdown",
   "id": "36926198-8327-4a1b-b1e3-ad0951d7a97c",
   "metadata": {},
   "source": [
    "### data_attracton : 관광명소 검색량"
   ]
  },
  {
   "cell_type": "code",
   "execution_count": 8,
   "id": "b8f9ce1f-cb7c-4aea-8f18-33adeea2e39a",
   "metadata": {},
   "outputs": [
    {
     "data": {
      "text/html": [
       "<div>\n",
       "<style scoped>\n",
       "    .dataframe tbody tr th:only-of-type {\n",
       "        vertical-align: middle;\n",
       "    }\n",
       "\n",
       "    .dataframe tbody tr th {\n",
       "        vertical-align: top;\n",
       "    }\n",
       "\n",
       "    .dataframe thead th {\n",
       "        text-align: right;\n",
       "    }\n",
       "</style>\n",
       "<table border=\"1\" class=\"dataframe\">\n",
       "  <thead>\n",
       "    <tr style=\"text-align: right;\">\n",
       "      <th></th>\n",
       "      <th>_id</th>\n",
       "      <th>rank</th>\n",
       "      <th>attraction_name</th>\n",
       "      <th>address</th>\n",
       "      <th>classification</th>\n",
       "      <th>attraction_search</th>\n",
       "      <th>region</th>\n",
       "      <th>std_year</th>\n",
       "    </tr>\n",
       "  </thead>\n",
       "  <tbody>\n",
       "    <tr>\n",
       "      <th>0</th>\n",
       "      <td>65e91282bb908e26c8038353</td>\n",
       "      <td>1</td>\n",
       "      <td>속초관광수산시장</td>\n",
       "      <td>강원 속초시 중앙로147번길 16-0</td>\n",
       "      <td>시장</td>\n",
       "      <td>644655</td>\n",
       "      <td>강원</td>\n",
       "      <td>2020</td>\n",
       "    </tr>\n",
       "    <tr>\n",
       "      <th>1</th>\n",
       "      <td>65e91282bb908e26c8038354</td>\n",
       "      <td>2</td>\n",
       "      <td>속초해변</td>\n",
       "      <td>강원 속초시 해오름로 186-0</td>\n",
       "      <td>자연경관(하천/해양)</td>\n",
       "      <td>276727</td>\n",
       "      <td>강원</td>\n",
       "      <td>2020</td>\n",
       "    </tr>\n",
       "    <tr>\n",
       "      <th>2</th>\n",
       "      <td>65e91282bb908e26c8038355</td>\n",
       "      <td>3</td>\n",
       "      <td>경포해변</td>\n",
       "      <td>강원 강릉시</td>\n",
       "      <td>자연경관(하천/해양)</td>\n",
       "      <td>263395</td>\n",
       "      <td>강원</td>\n",
       "      <td>2020</td>\n",
       "    </tr>\n",
       "    <tr>\n",
       "      <th>3</th>\n",
       "      <td>65e91282bb908e26c8038356</td>\n",
       "      <td>4</td>\n",
       "      <td>주문진항</td>\n",
       "      <td>강원 강릉시 해안로 1758-14</td>\n",
       "      <td>자연경관(하천/해양)</td>\n",
       "      <td>215243</td>\n",
       "      <td>강원</td>\n",
       "      <td>2020</td>\n",
       "    </tr>\n",
       "    <tr>\n",
       "      <th>4</th>\n",
       "      <td>65e91282bb908e26c8038357</td>\n",
       "      <td>5</td>\n",
       "      <td>쏠비치삼척</td>\n",
       "      <td>강원 삼척시 수로부인길 453-0</td>\n",
       "      <td>콘도미니엄</td>\n",
       "      <td>204957</td>\n",
       "      <td>강원</td>\n",
       "      <td>2020</td>\n",
       "    </tr>\n",
       "  </tbody>\n",
       "</table>\n",
       "</div>"
      ],
      "text/plain": [
       "                        _id  rank attraction_name               address  \\\n",
       "0  65e91282bb908e26c8038353     1        속초관광수산시장  강원 속초시 중앙로147번길 16-0   \n",
       "1  65e91282bb908e26c8038354     2            속초해변     강원 속초시 해오름로 186-0   \n",
       "2  65e91282bb908e26c8038355     3            경포해변                강원 강릉시   \n",
       "3  65e91282bb908e26c8038356     4            주문진항    강원 강릉시 해안로 1758-14   \n",
       "4  65e91282bb908e26c8038357     5           쏠비치삼척    강원 삼척시 수로부인길 453-0   \n",
       "\n",
       "  classification  attraction_search region  std_year  \n",
       "0             시장             644655     강원      2020  \n",
       "1    자연경관(하천/해양)             276727     강원      2020  \n",
       "2    자연경관(하천/해양)             263395     강원      2020  \n",
       "3    자연경관(하천/해양)             215243     강원      2020  \n",
       "4          콘도미니엄             204957     강원      2020  "
      ]
     },
     "execution_count": 8,
     "metadata": {},
     "output_type": "execute_result"
    }
   ],
   "source": [
    "df_attract = pd.read_csv('../data/data_attraction.csv')\n",
    "df_attract.head()"
   ]
  },
  {
   "cell_type": "code",
   "execution_count": 9,
   "id": "3fd34a2b-b591-4ce0-bf7d-c18c8722e6d4",
   "metadata": {},
   "outputs": [
    {
     "name": "stdout",
     "output_type": "stream",
     "text": [
      "<class 'pandas.core.frame.DataFrame'>\n",
      "RangeIndex: 13600 entries, 0 to 13599\n",
      "Data columns (total 8 columns):\n",
      " #   Column             Non-Null Count  Dtype \n",
      "---  ------             --------------  ----- \n",
      " 0   _id                13600 non-null  object\n",
      " 1   rank               13600 non-null  int64 \n",
      " 2   attraction_name    13600 non-null  object\n",
      " 3   address            13600 non-null  object\n",
      " 4   classification     13600 non-null  object\n",
      " 5   attraction_search  13600 non-null  int64 \n",
      " 6   region             13600 non-null  object\n",
      " 7   std_year           13600 non-null  int64 \n",
      "dtypes: int64(3), object(5)\n",
      "memory usage: 850.1+ KB\n"
     ]
    }
   ],
   "source": [
    "df_attract.info()"
   ]
  },
  {
   "cell_type": "code",
   "execution_count": 12,
   "id": "fa6d889a-ccb9-43f1-a3de-8a857a4ed3c2",
   "metadata": {},
   "outputs": [
    {
     "data": {
      "text/plain": [
       "array(['강원', '경기', '경남', '경북', '광주', '대구', '대전', '부산', '서울', '세종', '울산',\n",
       "       '인천', '전남', '전북', '제주', '충남', '충북'], dtype=object)"
      ]
     },
     "execution_count": 12,
     "metadata": {},
     "output_type": "execute_result"
    }
   ],
   "source": [
    "df_attract['region'].unique()"
   ]
  },
  {
   "cell_type": "code",
   "execution_count": 13,
   "id": "aaabf8ef-88a5-4275-9522-b2d6a8cee591",
   "metadata": {},
   "outputs": [
    {
     "data": {
      "text/plain": [
       "array([2020, 2021, 2022, 2023])"
      ]
     },
     "execution_count": 13,
     "metadata": {},
     "output_type": "execute_result"
    }
   ],
   "source": [
    "df_attract['std_year'].unique()"
   ]
  },
  {
   "cell_type": "code",
   "execution_count": 15,
   "id": "acdfa7d0-209c-4c3f-aa8b-0c43e0c6d86e",
   "metadata": {},
   "outputs": [
    {
     "name": "stdout",
     "output_type": "stream",
     "text": [
      "<class 'pandas.core.series.Series'>\n",
      "RangeIndex: 13600 entries, 0 to 13599\n",
      "Series name: attraction_name\n",
      "Non-Null Count  Dtype \n",
      "--------------  ----- \n",
      "13600 non-null  object\n",
      "dtypes: object(1)\n",
      "memory usage: 106.4+ KB\n"
     ]
    }
   ],
   "source": [
    "df_attract['attraction_name'].info()"
   ]
  },
  {
   "cell_type": "markdown",
   "id": "571c537c-d021-4482-83fc-fdbd1b9b47b6",
   "metadata": {},
   "source": [
    "### data_consume : 분야별 소비량"
   ]
  },
  {
   "cell_type": "code",
   "execution_count": 17,
   "id": "8bee7d1c-d33d-4fc5-8e7f-2c5bc52dbb29",
   "metadata": {},
   "outputs": [
    {
     "data": {
      "text/html": [
       "<div>\n",
       "<style scoped>\n",
       "    .dataframe tbody tr th:only-of-type {\n",
       "        vertical-align: middle;\n",
       "    }\n",
       "\n",
       "    .dataframe tbody tr th {\n",
       "        vertical-align: top;\n",
       "    }\n",
       "\n",
       "    .dataframe thead th {\n",
       "        text-align: right;\n",
       "    }\n",
       "</style>\n",
       "<table border=\"1\" class=\"dataframe\">\n",
       "  <thead>\n",
       "    <tr style=\"text-align: right;\">\n",
       "      <th></th>\n",
       "      <th>_id</th>\n",
       "      <th>std_year</th>\n",
       "      <th>region</th>\n",
       "      <th>consumption_amount</th>\n",
       "      <th>industry_major_cate</th>\n",
       "      <th>industry_middle_cate</th>\n",
       "    </tr>\n",
       "  </thead>\n",
       "  <tbody>\n",
       "    <tr>\n",
       "      <th>0</th>\n",
       "      <td>65e912c3bb908e26c803dea3</td>\n",
       "      <td>2020</td>\n",
       "      <td>강원</td>\n",
       "      <td>2.870202e+06</td>\n",
       "      <td>쇼핑업</td>\n",
       "      <td>관광기념품</td>\n",
       "    </tr>\n",
       "    <tr>\n",
       "      <th>1</th>\n",
       "      <td>65e912c3bb908e26c803dea4</td>\n",
       "      <td>2020</td>\n",
       "      <td>강원</td>\n",
       "      <td>8.180715e+07</td>\n",
       "      <td>쇼핑업</td>\n",
       "      <td>레저용품쇼핑</td>\n",
       "    </tr>\n",
       "    <tr>\n",
       "      <th>2</th>\n",
       "      <td>65e912c3bb908e26c803dea5</td>\n",
       "      <td>2020</td>\n",
       "      <td>강원</td>\n",
       "      <td>8.001180e+07</td>\n",
       "      <td>쇼핑업</td>\n",
       "      <td>대형쇼핑몰</td>\n",
       "    </tr>\n",
       "    <tr>\n",
       "      <th>3</th>\n",
       "      <td>65e912c3bb908e26c803dea6</td>\n",
       "      <td>2020</td>\n",
       "      <td>강원</td>\n",
       "      <td>6.250369e+04</td>\n",
       "      <td>쇼핑업</td>\n",
       "      <td>면세점</td>\n",
       "    </tr>\n",
       "    <tr>\n",
       "      <th>4</th>\n",
       "      <td>65e912c3bb908e26c803dea7</td>\n",
       "      <td>2020</td>\n",
       "      <td>강원</td>\n",
       "      <td>2.938260e+07</td>\n",
       "      <td>숙박업</td>\n",
       "      <td>호텔</td>\n",
       "    </tr>\n",
       "  </tbody>\n",
       "</table>\n",
       "</div>"
      ],
      "text/plain": [
       "                        _id  std_year region  consumption_amount  \\\n",
       "0  65e912c3bb908e26c803dea3      2020     강원        2.870202e+06   \n",
       "1  65e912c3bb908e26c803dea4      2020     강원        8.180715e+07   \n",
       "2  65e912c3bb908e26c803dea5      2020     강원        8.001180e+07   \n",
       "3  65e912c3bb908e26c803dea6      2020     강원        6.250369e+04   \n",
       "4  65e912c3bb908e26c803dea7      2020     강원        2.938260e+07   \n",
       "\n",
       "  industry_major_cate industry_middle_cate  \n",
       "0                 쇼핑업                관광기념품  \n",
       "1                 쇼핑업               레저용품쇼핑  \n",
       "2                 쇼핑업                대형쇼핑몰  \n",
       "3                 쇼핑업                  면세점  \n",
       "4                 숙박업                   호텔  "
      ]
     },
     "execution_count": 17,
     "metadata": {},
     "output_type": "execute_result"
    }
   ],
   "source": [
    "df_consume = pd.read_csv('../data/data_consume.csv')\n",
    "df_consume.head()"
   ]
  },
  {
   "cell_type": "code",
   "execution_count": 18,
   "id": "ac4d5c89-34fa-45b2-bc6d-a9d18966abd4",
   "metadata": {},
   "outputs": [
    {
     "name": "stdout",
     "output_type": "stream",
     "text": [
      "<class 'pandas.core.frame.DataFrame'>\n",
      "RangeIndex: 1177 entries, 0 to 1176\n",
      "Data columns (total 6 columns):\n",
      " #   Column                Non-Null Count  Dtype  \n",
      "---  ------                --------------  -----  \n",
      " 0   _id                   1177 non-null   object \n",
      " 1   std_year              1177 non-null   int64  \n",
      " 2   region                1177 non-null   object \n",
      " 3   consumption_amount    1177 non-null   float64\n",
      " 4   industry_major_cate   1177 non-null   object \n",
      " 5   industry_middle_cate  1177 non-null   object \n",
      "dtypes: float64(1), int64(1), object(4)\n",
      "memory usage: 55.3+ KB\n"
     ]
    }
   ],
   "source": [
    "df_consume.info()"
   ]
  },
  {
   "cell_type": "code",
   "execution_count": 19,
   "id": "ad85c309-277c-4e6d-8293-636e0fe238c8",
   "metadata": {},
   "outputs": [
    {
     "data": {
      "text/plain": [
       "array(['쇼핑업', '숙박업', '식음료업', '여가서비스업', '여행업', '운송업'], dtype=object)"
      ]
     },
     "execution_count": 19,
     "metadata": {},
     "output_type": "execute_result"
    }
   ],
   "source": [
    "df_consume['industry_major_cate'].unique()"
   ]
  },
  {
   "cell_type": "code",
   "execution_count": 20,
   "id": "3df5e2c1-5a65-4953-80f0-80f4982439b5",
   "metadata": {},
   "outputs": [
    {
     "data": {
      "text/plain": [
       "array(['관광기념품', '레저용품쇼핑', '대형쇼핑몰', '면세점', '호텔', '콘도', '캠핑장/펜션', '기타숙박',\n",
       "       '식음료', '관광유원시설', '골프장', '기타레저', '문화서비스', '스키장', '여행업', '수상운송',\n",
       "       '렌터카', '육상운송', '항공운송', '카지노'], dtype=object)"
      ]
     },
     "execution_count": 20,
     "metadata": {},
     "output_type": "execute_result"
    }
   ],
   "source": [
    "df_consume['industry_middle_cate'].unique()"
   ]
  },
  {
   "cell_type": "markdown",
   "id": "16169633-7454-4225-ab1e-31b38cb7e812",
   "metadata": {},
   "source": [
    "### data_consume_transition : 소비 유형에 따른 월별 소비량"
   ]
  },
  {
   "cell_type": "code",
   "execution_count": 22,
   "id": "ef96cea0-5f9e-4fce-a08d-ac8ed0c2f7db",
   "metadata": {},
   "outputs": [
    {
     "data": {
      "text/html": [
       "<div>\n",
       "<style scoped>\n",
       "    .dataframe tbody tr th:only-of-type {\n",
       "        vertical-align: middle;\n",
       "    }\n",
       "\n",
       "    .dataframe tbody tr th {\n",
       "        vertical-align: top;\n",
       "    }\n",
       "\n",
       "    .dataframe thead th {\n",
       "        text-align: right;\n",
       "    }\n",
       "</style>\n",
       "<table border=\"1\" class=\"dataframe\">\n",
       "  <thead>\n",
       "    <tr style=\"text-align: right;\">\n",
       "      <th></th>\n",
       "      <th>_id</th>\n",
       "      <th>industry_major_cate</th>\n",
       "      <th>std_year_month</th>\n",
       "      <th>std_year</th>\n",
       "      <th>std_month</th>\n",
       "      <th>consumption_amount</th>\n",
       "      <th>region</th>\n",
       "    </tr>\n",
       "  </thead>\n",
       "  <tbody>\n",
       "    <tr>\n",
       "      <th>0</th>\n",
       "      <td>65e932a1bb908e26c804492e</td>\n",
       "      <td>전체</td>\n",
       "      <td>202012</td>\n",
       "      <td>2020</td>\n",
       "      <td>12</td>\n",
       "      <td>59888524</td>\n",
       "      <td>강원</td>\n",
       "    </tr>\n",
       "    <tr>\n",
       "      <th>1</th>\n",
       "      <td>65e932a1bb908e26c804492f</td>\n",
       "      <td>전체</td>\n",
       "      <td>202001</td>\n",
       "      <td>2020</td>\n",
       "      <td>1</td>\n",
       "      <td>98147222</td>\n",
       "      <td>강원</td>\n",
       "    </tr>\n",
       "    <tr>\n",
       "      <th>2</th>\n",
       "      <td>65e932a1bb908e26c8044930</td>\n",
       "      <td>전체</td>\n",
       "      <td>202002</td>\n",
       "      <td>2020</td>\n",
       "      <td>2</td>\n",
       "      <td>69547139</td>\n",
       "      <td>강원</td>\n",
       "    </tr>\n",
       "    <tr>\n",
       "      <th>3</th>\n",
       "      <td>65e932a1bb908e26c8044931</td>\n",
       "      <td>전체</td>\n",
       "      <td>202003</td>\n",
       "      <td>2020</td>\n",
       "      <td>3</td>\n",
       "      <td>62071229</td>\n",
       "      <td>강원</td>\n",
       "    </tr>\n",
       "    <tr>\n",
       "      <th>4</th>\n",
       "      <td>65e932a1bb908e26c8044932</td>\n",
       "      <td>전체</td>\n",
       "      <td>202004</td>\n",
       "      <td>2020</td>\n",
       "      <td>4</td>\n",
       "      <td>75022238</td>\n",
       "      <td>강원</td>\n",
       "    </tr>\n",
       "  </tbody>\n",
       "</table>\n",
       "</div>"
      ],
      "text/plain": [
       "                        _id industry_major_cate  std_year_month  std_year  \\\n",
       "0  65e932a1bb908e26c804492e                  전체          202012      2020   \n",
       "1  65e932a1bb908e26c804492f                  전체          202001      2020   \n",
       "2  65e932a1bb908e26c8044930                  전체          202002      2020   \n",
       "3  65e932a1bb908e26c8044931                  전체          202003      2020   \n",
       "4  65e932a1bb908e26c8044932                  전체          202004      2020   \n",
       "\n",
       "   std_month  consumption_amount region  \n",
       "0         12            59888524     강원  \n",
       "1          1            98147222     강원  \n",
       "2          2            69547139     강원  \n",
       "3          3            62071229     강원  \n",
       "4          4            75022238     강원  "
      ]
     },
     "execution_count": 22,
     "metadata": {},
     "output_type": "execute_result"
    }
   ],
   "source": [
    "df_consume_trans = pd.read_csv('../data/data_consume_transition.csv')\n",
    "df_consume_trans.head()"
   ]
  },
  {
   "cell_type": "code",
   "execution_count": 23,
   "id": "bdb57db1-8c73-4dc0-82bf-08a9fca26560",
   "metadata": {},
   "outputs": [
    {
     "name": "stdout",
     "output_type": "stream",
     "text": [
      "<class 'pandas.core.frame.DataFrame'>\n",
      "RangeIndex: 5693 entries, 0 to 5692\n",
      "Data columns (total 7 columns):\n",
      " #   Column               Non-Null Count  Dtype \n",
      "---  ------               --------------  ----- \n",
      " 0   _id                  5693 non-null   object\n",
      " 1   industry_major_cate  5693 non-null   object\n",
      " 2   std_year_month       5693 non-null   int64 \n",
      " 3   std_year             5693 non-null   int64 \n",
      " 4   std_month            5693 non-null   int64 \n",
      " 5   consumption_amount   5693 non-null   int64 \n",
      " 6   region               5693 non-null   object\n",
      "dtypes: int64(4), object(3)\n",
      "memory usage: 311.5+ KB\n"
     ]
    }
   ],
   "source": [
    "df_consume_trans.info()"
   ]
  },
  {
   "cell_type": "code",
   "execution_count": 24,
   "id": "561086d1-635f-4c50-bf17-42884984af64",
   "metadata": {},
   "outputs": [
    {
     "data": {
      "text/plain": [
       "array(['전체', '운송업', '여행업', '숙박업', '식음료업', '여가서비스업', '쇼핑업'], dtype=object)"
      ]
     },
     "execution_count": 24,
     "metadata": {},
     "output_type": "execute_result"
    }
   ],
   "source": [
    "df_consume_trans['industry_major_cate'].unique()"
   ]
  },
  {
   "cell_type": "markdown",
   "id": "a61d6c27-6628-4a11-91d6-b4a416d654f9",
   "metadata": {},
   "source": [
    "### data_trend_search : 월별 여행 트랜드 검색량"
   ]
  },
  {
   "cell_type": "code",
   "execution_count": 25,
   "id": "380b3215-8cd1-4d4d-bfb7-dcc9af4f0cfb",
   "metadata": {},
   "outputs": [
    {
     "data": {
      "text/html": [
       "<div>\n",
       "<style scoped>\n",
       "    .dataframe tbody tr th:only-of-type {\n",
       "        vertical-align: middle;\n",
       "    }\n",
       "\n",
       "    .dataframe tbody tr th {\n",
       "        vertical-align: top;\n",
       "    }\n",
       "\n",
       "    .dataframe thead th {\n",
       "        text-align: right;\n",
       "    }\n",
       "</style>\n",
       "<table border=\"1\" class=\"dataframe\">\n",
       "  <thead>\n",
       "    <tr style=\"text-align: right;\">\n",
       "      <th></th>\n",
       "      <th>_id</th>\n",
       "      <th>region</th>\n",
       "      <th>std_year_month</th>\n",
       "      <th>std_year</th>\n",
       "      <th>std_month</th>\n",
       "      <th>tour_trend</th>\n",
       "      <th>num_mention</th>\n",
       "    </tr>\n",
       "  </thead>\n",
       "  <tbody>\n",
       "    <tr>\n",
       "      <th>0</th>\n",
       "      <td>65e92ddfbb908e26c804393d</td>\n",
       "      <td>강원</td>\n",
       "      <td>202007</td>\n",
       "      <td>2020</td>\n",
       "      <td>7</td>\n",
       "      <td>레포츠</td>\n",
       "      <td>58868</td>\n",
       "    </tr>\n",
       "    <tr>\n",
       "      <th>1</th>\n",
       "      <td>65e92ddfbb908e26c804393e</td>\n",
       "      <td>강원</td>\n",
       "      <td>202008</td>\n",
       "      <td>2020</td>\n",
       "      <td>8</td>\n",
       "      <td>레포츠</td>\n",
       "      <td>53624</td>\n",
       "    </tr>\n",
       "    <tr>\n",
       "      <th>2</th>\n",
       "      <td>65e92ddfbb908e26c804393f</td>\n",
       "      <td>강원</td>\n",
       "      <td>202006</td>\n",
       "      <td>2020</td>\n",
       "      <td>6</td>\n",
       "      <td>레포츠</td>\n",
       "      <td>49214</td>\n",
       "    </tr>\n",
       "    <tr>\n",
       "      <th>3</th>\n",
       "      <td>65e92ddfbb908e26c8043940</td>\n",
       "      <td>강원</td>\n",
       "      <td>202010</td>\n",
       "      <td>2020</td>\n",
       "      <td>10</td>\n",
       "      <td>레포츠</td>\n",
       "      <td>47223</td>\n",
       "    </tr>\n",
       "    <tr>\n",
       "      <th>4</th>\n",
       "      <td>65e92ddfbb908e26c8043941</td>\n",
       "      <td>강원</td>\n",
       "      <td>202007</td>\n",
       "      <td>2020</td>\n",
       "      <td>7</td>\n",
       "      <td>휴식/힐링</td>\n",
       "      <td>40740</td>\n",
       "    </tr>\n",
       "  </tbody>\n",
       "</table>\n",
       "</div>"
      ],
      "text/plain": [
       "                        _id region  std_year_month  std_year  std_month  \\\n",
       "0  65e92ddfbb908e26c804393d     강원          202007      2020          7   \n",
       "1  65e92ddfbb908e26c804393e     강원          202008      2020          8   \n",
       "2  65e92ddfbb908e26c804393f     강원          202006      2020          6   \n",
       "3  65e92ddfbb908e26c8043940     강원          202010      2020         10   \n",
       "4  65e92ddfbb908e26c8043941     강원          202007      2020          7   \n",
       "\n",
       "  tour_trend  num_mention  \n",
       "0        레포츠        58868  \n",
       "1        레포츠        53624  \n",
       "2        레포츠        49214  \n",
       "3        레포츠        47223  \n",
       "4      휴식/힐링        40740  "
      ]
     },
     "execution_count": 25,
     "metadata": {},
     "output_type": "execute_result"
    }
   ],
   "source": [
    "df_trend = pd.read_csv('../data/data_trend_search.csv')\n",
    "df_trend.head()"
   ]
  },
  {
   "cell_type": "code",
   "execution_count": 26,
   "id": "180270e7-e30b-4580-821d-2c2175fe7bfd",
   "metadata": {},
   "outputs": [
    {
     "name": "stdout",
     "output_type": "stream",
     "text": [
      "<class 'pandas.core.frame.DataFrame'>\n",
      "RangeIndex: 4080 entries, 0 to 4079\n",
      "Data columns (total 7 columns):\n",
      " #   Column          Non-Null Count  Dtype \n",
      "---  ------          --------------  ----- \n",
      " 0   _id             4080 non-null   object\n",
      " 1   region          4080 non-null   object\n",
      " 2   std_year_month  4080 non-null   int64 \n",
      " 3   std_year        4080 non-null   int64 \n",
      " 4   std_month       4080 non-null   int64 \n",
      " 5   tour_trend      4080 non-null   object\n",
      " 6   num_mention     4080 non-null   int64 \n",
      "dtypes: int64(4), object(3)\n",
      "memory usage: 223.3+ KB\n"
     ]
    }
   ],
   "source": [
    "df_trend.info()"
   ]
  },
  {
   "cell_type": "code",
   "execution_count": 27,
   "id": "ee856165-b547-4110-838f-b045eb049234",
   "metadata": {},
   "outputs": [
    {
     "data": {
      "text/plain": [
       "array(['레포츠', '휴식/힐링', '기타', '미식', '체험'], dtype=object)"
      ]
     },
     "execution_count": 27,
     "metadata": {},
     "output_type": "execute_result"
    }
   ],
   "source": [
    "df_trend['tour_trend'].unique()"
   ]
  },
  {
   "cell_type": "markdown",
   "id": "1b609a91-0f96-4b2a-b7b2-b5f20b53cbe9",
   "metadata": {},
   "source": [
    "### data_tour_NLP_train : 네이버 블로그 제목"
   ]
  },
  {
   "cell_type": "code",
   "execution_count": 28,
   "id": "35f86b0f-388c-4700-a3fb-dd31b7780be8",
   "metadata": {},
   "outputs": [
    {
     "data": {
      "text/html": [
       "<div>\n",
       "<style scoped>\n",
       "    .dataframe tbody tr th:only-of-type {\n",
       "        vertical-align: middle;\n",
       "    }\n",
       "\n",
       "    .dataframe tbody tr th {\n",
       "        vertical-align: top;\n",
       "    }\n",
       "\n",
       "    .dataframe thead th {\n",
       "        text-align: right;\n",
       "    }\n",
       "</style>\n",
       "<table border=\"1\" class=\"dataframe\">\n",
       "  <thead>\n",
       "    <tr style=\"text-align: right;\">\n",
       "      <th></th>\n",
       "      <th>_id</th>\n",
       "      <th>concept</th>\n",
       "      <th>season</th>\n",
       "      <th>review_text</th>\n",
       "      <th>지역</th>\n",
       "      <th>review_text_clean</th>\n",
       "    </tr>\n",
       "  </thead>\n",
       "  <tbody>\n",
       "    <tr>\n",
       "      <th>0</th>\n",
       "      <td>65ee6316a64dee66ed301e2a</td>\n",
       "      <td>0</td>\n",
       "      <td>0</td>\n",
       "      <td>[블로그 울산 남구 아이스팩 전용 수거함 어디에 있을까?</td>\n",
       "      <td>울산</td>\n",
       "      <td>아이스팩 전용 수거</td>\n",
       "    </tr>\n",
       "    <tr>\n",
       "      <th>1</th>\n",
       "      <td>65ee670ba64dee66ed303175</td>\n",
       "      <td>5</td>\n",
       "      <td>3</td>\n",
       "      <td>[가을여행] 전주 당일치기 여행 BEST10 (feat. 덕진공원팸투어) /가을 단...</td>\n",
       "      <td>전북</td>\n",
       "      <td>가을 전주 당일치기 진공 투어 가을 단풍</td>\n",
       "    </tr>\n",
       "    <tr>\n",
       "      <th>2</th>\n",
       "      <td>65ee6a64c528b55b0ae79e58</td>\n",
       "      <td>4</td>\n",
       "      <td>0</td>\n",
       "      <td>대전 유성구 관평동 맛집, 감동적인 맛과 가격 '매봉 쌀국수와 소바'</td>\n",
       "      <td>대전</td>\n",
       "      <td>맛집 감동 쌀국수</td>\n",
       "    </tr>\n",
       "    <tr>\n",
       "      <th>3</th>\n",
       "      <td>65ee60fc901db79521bc991b</td>\n",
       "      <td>3</td>\n",
       "      <td>0</td>\n",
       "      <td>역사를 따라가는 DMZ 로드</td>\n",
       "      <td>경기</td>\n",
       "      <td>역사 로드</td>\n",
       "    </tr>\n",
       "    <tr>\n",
       "      <th>4</th>\n",
       "      <td>65ee664fc528b55b0ae78d7a</td>\n",
       "      <td>5</td>\n",
       "      <td>0</td>\n",
       "      <td>아브라다카브라라는 주문을 외워보고 싶은, '대전 보라매공원크리스마스 풍경'</td>\n",
       "      <td>대전</td>\n",
       "      <td>주문 보라매 공원 풍경</td>\n",
       "    </tr>\n",
       "  </tbody>\n",
       "</table>\n",
       "</div>"
      ],
      "text/plain": [
       "                        _id  concept season  \\\n",
       "0  65ee6316a64dee66ed301e2a        0      0   \n",
       "1  65ee670ba64dee66ed303175        5      3   \n",
       "2  65ee6a64c528b55b0ae79e58        4      0   \n",
       "3  65ee60fc901db79521bc991b        3      0   \n",
       "4  65ee664fc528b55b0ae78d7a        5      0   \n",
       "\n",
       "                                         review_text  지역  \\\n",
       "0                    [블로그 울산 남구 아이스팩 전용 수거함 어디에 있을까?  울산   \n",
       "1  [가을여행] 전주 당일치기 여행 BEST10 (feat. 덕진공원팸투어) /가을 단...  전북   \n",
       "2             대전 유성구 관평동 맛집, 감동적인 맛과 가격 '매봉 쌀국수와 소바'  대전   \n",
       "3                                    역사를 따라가는 DMZ 로드  경기   \n",
       "4          아브라다카브라라는 주문을 외워보고 싶은, '대전 보라매공원크리스마스 풍경'  대전   \n",
       "\n",
       "        review_text_clean  \n",
       "0              아이스팩 전용 수거  \n",
       "1  가을 전주 당일치기 진공 투어 가을 단풍  \n",
       "2               맛집 감동 쌀국수  \n",
       "3                   역사 로드  \n",
       "4            주문 보라매 공원 풍경  "
      ]
     },
     "execution_count": 28,
     "metadata": {},
     "output_type": "execute_result"
    }
   ],
   "source": [
    "df_NLP = pd.read_csv('../data/data_tour_NLP_train.csv')\n",
    "df_NLP.head()"
   ]
  },
  {
   "cell_type": "code",
   "execution_count": 29,
   "id": "1ecc8933-5bea-4596-a272-f2296953bd08",
   "metadata": {},
   "outputs": [
    {
     "name": "stdout",
     "output_type": "stream",
     "text": [
      "<class 'pandas.core.frame.DataFrame'>\n",
      "RangeIndex: 10000 entries, 0 to 9999\n",
      "Data columns (total 6 columns):\n",
      " #   Column             Non-Null Count  Dtype \n",
      "---  ------             --------------  ----- \n",
      " 0   _id                10000 non-null  object\n",
      " 1   concept            10000 non-null  int64 \n",
      " 2   season             10000 non-null  object\n",
      " 3   review_text        10000 non-null  object\n",
      " 4   지역                 10000 non-null  object\n",
      " 5   review_text_clean  9775 non-null   object\n",
      "dtypes: int64(1), object(5)\n",
      "memory usage: 468.9+ KB\n"
     ]
    }
   ],
   "source": [
    "df_NLP.info()"
   ]
  },
  {
   "cell_type": "code",
   "execution_count": 32,
   "id": "44a51d6e-203b-42b2-86df-ff2d3984b119",
   "metadata": {},
   "outputs": [
    {
     "data": {
      "text/plain": [
       "array(['울산', '전북', '대전', '경기', '전남', '제주', '대구', '강원', '광주', '경남', '서울',\n",
       "       '부산', '경북', '인천', '충남', '충북', '세종'], dtype=object)"
      ]
     },
     "execution_count": 32,
     "metadata": {},
     "output_type": "execute_result"
    }
   ],
   "source": [
    "df_NLP['지역'].unique()"
   ]
  },
  {
   "cell_type": "code",
   "execution_count": null,
   "id": "121527c4-0d7a-4813-97ce-231736dd64b3",
   "metadata": {},
   "outputs": [],
   "source": []
  }
 ],
 "metadata": {
  "kernelspec": {
   "display_name": "Python 3 (ipykernel)",
   "language": "python",
   "name": "python3"
  },
  "language_info": {
   "codemirror_mode": {
    "name": "ipython",
    "version": 3
   },
   "file_extension": ".py",
   "mimetype": "text/x-python",
   "name": "python",
   "nbconvert_exporter": "python",
   "pygments_lexer": "ipython3",
   "version": "3.11.9"
  }
 },
 "nbformat": 4,
 "nbformat_minor": 5
}
